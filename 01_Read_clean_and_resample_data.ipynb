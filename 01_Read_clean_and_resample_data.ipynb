{
  "nbformat": 4,
  "nbformat_minor": 0,
  "metadata": {
    "colab": {
      "provenance": [],
      "toc_visible": true,
      "gpuType": "T4",
      "authorship_tag": "ABX9TyP+YFMNXnWg6hov7hTzGG81",
      "include_colab_link": true
    },
    "kernelspec": {
      "name": "python3",
      "display_name": "Python 3"
    },
    "language_info": {
      "name": "python"
    },
    "accelerator": "GPU"
  },
  "cells": [
    {
      "cell_type": "markdown",
      "metadata": {
        "id": "view-in-github",
        "colab_type": "text"
      },
      "source": [
        "<a href=\"https://colab.research.google.com/github/YaninaK/predictive-maintenance/blob/main/01_Read_clean_and_resample_data.ipynb\" target=\"_parent\"><img src=\"https://colab.research.google.com/assets/colab-badge.svg\" alt=\"Open In Colab\"/></a>"
      ]
    },
    {
      "cell_type": "markdown",
      "source": [
        "# Xакатон ЛИДЕРЫ ЦИФРОВОЙ ТРАНСФОРМАЦИИ 2023\n",
        "\n",
        "## Северсталь. Модель раннего обнаружения неисправностей промышленного оборудования\n",
        "[Задача 15](https://leaders2023.innoagency.ru/task_15) \n"
      ],
      "metadata": {
        "id": "Z75iL7xiTePc"
      }
    },
    {
      "cell_type": "markdown",
      "source": [
        "## Read clean and resample data\n",
        "\n",
        "### [data](https://drive.google.com/file/d/1jrbfHULbZuCnwJQwNllQUFlCGpR_lHDc/view?usp=sharing)"
      ],
      "metadata": {
        "id": "4Dnvhy4cD6Qb"
      }
    },
    {
      "cell_type": "code",
      "source": [
        "from google.colab import drive\n",
        "drive.mount('/content/drive')"
      ],
      "metadata": {
        "colab": {
          "base_uri": "https://localhost:8080/"
        },
        "id": "sy7i235ETTfy",
        "outputId": "7ff8df33-3b5f-43a0-e00a-ac4d0a663e0f"
      },
      "execution_count": 1,
      "outputs": [
        {
          "output_type": "stream",
          "name": "stdout",
          "text": [
            "Mounted at /content/drive\n"
          ]
        }
      ]
    },
    {
      "cell_type": "code",
      "source": [
        "!git clone https://github.com/YaninaK/predictive-maintenance.git -q\n",
        "!pip install -r predictive-maintenance/requirements_Colab.txt -q"
      ],
      "metadata": {
        "colab": {
          "base_uri": "https://localhost:8080/"
        },
        "id": "J8FDklUVYfRt",
        "outputId": "3f7e0898-4a5f-4772-d852-88f9fbf09698"
      },
      "execution_count": 2,
      "outputs": [
        {
          "output_type": "stream",
          "name": "stdout",
          "text": [
            "\u001b[2K     \u001b[90m━━━━━━━━━━━━━━━━━━━━━━━━━━━━━━━━━━━━━━━\u001b[0m \u001b[32m310.8/310.8 MB\u001b[0m \u001b[31m4.8 MB/s\u001b[0m eta \u001b[36m0:00:00\u001b[0m\n",
            "\u001b[?25h  Preparing metadata (setup.py) ... \u001b[?25l\u001b[?25hdone\n",
            "  Building wheel for pyspark (setup.py) ... \u001b[?25l\u001b[?25hdone\n"
          ]
        }
      ]
    },
    {
      "cell_type": "code",
      "source": [
        "!unzip /content/drive/MyDrive/ML_projects/02_Predictive_maintenance/data/01_raw/datasets.zip -d /content/predictive-maintenance/data/\n",
        "!mv /content/predictive-maintenance/data/Датасеты/* /content/predictive-maintenance/data/01_raw\n",
        "!rmdir /content/predictive-maintenance/data/Датасеты"
      ],
      "metadata": {
        "colab": {
          "base_uri": "https://localhost:8080/"
        },
        "id": "uHJgJ-uiT6Us",
        "outputId": "aa01cbe0-4d6d-433d-d6ce-4eadb9ee7d24"
      },
      "execution_count": 3,
      "outputs": [
        {
          "output_type": "stream",
          "name": "stdout",
          "text": [
            "Archive:  /content/drive/MyDrive/ML_projects/02_Predictive_maintenance/data/01_raw/datasets.zip\n",
            "   creating: /content/predictive-maintenance/data/Датасеты/\n",
            " extracting: /content/predictive-maintenance/data/Датасеты/X_test.parquet  \n",
            " extracting: /content/predictive-maintenance/data/Датасеты/X_train.parquet  \n",
            " extracting: /content/predictive-maintenance/data/Датасеты/messages.xlsx  \n",
            " extracting: /content/predictive-maintenance/data/Датасеты/test_intervals.xlsx  \n",
            " extracting: /content/predictive-maintenance/data/Датасеты/y_train.parquet  \n"
          ]
        }
      ]
    },
    {
      "cell_type": "code",
      "source": [
        "%cd /content/predictive-maintenance"
      ],
      "metadata": {
        "colab": {
          "base_uri": "https://localhost:8080/"
        },
        "id": "4r33kqtJW1Ka",
        "outputId": "718ba0ef-57ce-448e-81ed-90a4df04337a"
      },
      "execution_count": 4,
      "outputs": [
        {
          "output_type": "stream",
          "name": "stdout",
          "text": [
            "/content/predictive-maintenance\n"
          ]
        }
      ]
    },
    {
      "cell_type": "code",
      "source": [
        "import sys\n",
        "import os\n",
        "\n",
        "sys.path.append(os.getcwd())\n",
        "sys.path.append(os.path.join(os.getcwd(), \"src\", \"predictive_maintenance\"))   "
      ],
      "metadata": {
        "id": "rzpcoJD_W4f0"
      },
      "execution_count": 5,
      "outputs": []
    },
    {
      "cell_type": "code",
      "source": [
        "import pandas as pd\n",
        "import numpy as np\n",
        "import pyspark\n",
        "import pyspark.sql.functions as F\n",
        "\n",
        "from pprint import pprint\n",
        "\n",
        "from data.make_dataset import (\n",
        "    load_data, \n",
        "    get_new_X_column_names,    \n",
        "    rename_columns,      \n",
        ")\n",
        "from data.resample_dataset import (    \n",
        "    save_resampled_X,\n",
        "    save_resampled_y_train, \n",
        ")"
      ],
      "metadata": {
        "id": "jd_7yPrQW9dv"
      },
      "execution_count": 6,
      "outputs": []
    },
    {
      "cell_type": "code",
      "source": [
        "import warnings\n",
        "warnings.filterwarnings('ignore')"
      ],
      "metadata": {
        "id": "Mvv9mpMshutt"
      },
      "execution_count": 7,
      "outputs": []
    },
    {
      "cell_type": "code",
      "source": [
        "app_name = 'data_preprocessing'\n",
        "spark_ui_port = 4041"
      ],
      "metadata": {
        "id": "5vdPBmZVhvwy"
      },
      "execution_count": 8,
      "outputs": []
    },
    {
      "cell_type": "code",
      "source": [
        "spark = (\n",
        "    pyspark.sql.SparkSession.builder\n",
        "        .appName(app_name)        \n",
        "        .config(\"spark.ui.port\", spark_ui_port)\n",
        "        .getOrCreate()\n",
        ")"
      ],
      "metadata": {
        "id": "HBWaxn2WhyYn"
      },
      "execution_count": 9,
      "outputs": []
    },
    {
      "cell_type": "code",
      "source": [
        "PATH = '/content/drive/MyDrive/ML_projects/02_Predictive_maintenance/'\n",
        "FOLDER = \"data/02_intermediate/\""
      ],
      "metadata": {
        "id": "uv-RADf4jN7y"
      },
      "execution_count": 10,
      "outputs": []
    },
    {
      "cell_type": "markdown",
      "source": [
        "### 1. Data ingestion"
      ],
      "metadata": {
        "id": "ME4hmBKQiT-r"
      }
    },
    {
      "cell_type": "code",
      "source": [
        "X_train, y_train, messages, unified_tech_places = load_data()\n",
        "\n",
        "X_train = X_train.repartition(4)\n",
        "y_train = y_train.repartition(4)\n",
        "\n",
        "print(f'X_train.shape = ({X_train.count()}, {len(X_train.columns)})')\n",
        "print(f'y_train.shape = ({y_train.count()}, {len(y_train.columns)})')"
      ],
      "metadata": {
        "colab": {
          "base_uri": "https://localhost:8080/"
        },
        "id": "pJCOysbufDpG",
        "outputId": "8a948dce-f809-4327-db01-1ecd9212b27d"
      },
      "execution_count": 11,
      "outputs": [
        {
          "output_type": "stream",
          "name": "stdout",
          "text": [
            "X_train.shape = (9335034, 97)\n",
            "y_train.shape = (9335034, 176)\n"
          ]
        }
      ]
    },
    {
      "cell_type": "code",
      "source": [
        "print(f'unified_tech_places.shape = {unified_tech_places.shape}\\n')\n",
        "unified_tech_places.head(2)"
      ],
      "metadata": {
        "colab": {
          "base_uri": "https://localhost:8080/",
          "height": 147
        },
        "id": "P3-6kLRuIet5",
        "outputId": "a3a6bc38-1d2c-4264-a0b7-2dbb2ad6333e"
      },
      "execution_count": 12,
      "outputs": [
        {
          "output_type": "stream",
          "name": "stdout",
          "text": [
            "unified_tech_places.shape = (175, 3)\n",
            "\n"
          ]
        },
        {
          "output_type": "execute_result",
          "data": {
            "text/plain": [
              "  equipment                            description  \\\n",
              "0         9     9_ЗАПОРНАЯ АРМАТУРА ЭКСГАУСТЕРА №9   \n",
              "1         9  9_МАСЛОСТАНЦИЯ ЖИДКОЙ СМАЗКИ ЭКСГ_ №9   \n",
              "\n",
              "                         unified_name  \n",
              "0     ЗАПОРНАЯ АРМАТУРА ЭКСГАУСТЕРА №  \n",
              "1  МАСЛОСТАНЦИЯ ЖИДКОЙ СМАЗКИ ЭКСГ_ №  "
            ],
            "text/html": [
              "\n",
              "  <div id=\"df-adcc1353-43c2-4f3e-8ec4-9935aae32964\">\n",
              "    <div class=\"colab-df-container\">\n",
              "      <div>\n",
              "<style scoped>\n",
              "    .dataframe tbody tr th:only-of-type {\n",
              "        vertical-align: middle;\n",
              "    }\n",
              "\n",
              "    .dataframe tbody tr th {\n",
              "        vertical-align: top;\n",
              "    }\n",
              "\n",
              "    .dataframe thead th {\n",
              "        text-align: right;\n",
              "    }\n",
              "</style>\n",
              "<table border=\"1\" class=\"dataframe\">\n",
              "  <thead>\n",
              "    <tr style=\"text-align: right;\">\n",
              "      <th></th>\n",
              "      <th>equipment</th>\n",
              "      <th>description</th>\n",
              "      <th>unified_name</th>\n",
              "    </tr>\n",
              "  </thead>\n",
              "  <tbody>\n",
              "    <tr>\n",
              "      <th>0</th>\n",
              "      <td>9</td>\n",
              "      <td>9_ЗАПОРНАЯ АРМАТУРА ЭКСГАУСТЕРА №9</td>\n",
              "      <td>ЗАПОРНАЯ АРМАТУРА ЭКСГАУСТЕРА №</td>\n",
              "    </tr>\n",
              "    <tr>\n",
              "      <th>1</th>\n",
              "      <td>9</td>\n",
              "      <td>9_МАСЛОСТАНЦИЯ ЖИДКОЙ СМАЗКИ ЭКСГ_ №9</td>\n",
              "      <td>МАСЛОСТАНЦИЯ ЖИДКОЙ СМАЗКИ ЭКСГ_ №</td>\n",
              "    </tr>\n",
              "  </tbody>\n",
              "</table>\n",
              "</div>\n",
              "      <button class=\"colab-df-convert\" onclick=\"convertToInteractive('df-adcc1353-43c2-4f3e-8ec4-9935aae32964')\"\n",
              "              title=\"Convert this dataframe to an interactive table.\"\n",
              "              style=\"display:none;\">\n",
              "        \n",
              "  <svg xmlns=\"http://www.w3.org/2000/svg\" height=\"24px\"viewBox=\"0 0 24 24\"\n",
              "       width=\"24px\">\n",
              "    <path d=\"M0 0h24v24H0V0z\" fill=\"none\"/>\n",
              "    <path d=\"M18.56 5.44l.94 2.06.94-2.06 2.06-.94-2.06-.94-.94-2.06-.94 2.06-2.06.94zm-11 1L8.5 8.5l.94-2.06 2.06-.94-2.06-.94L8.5 2.5l-.94 2.06-2.06.94zm10 10l.94 2.06.94-2.06 2.06-.94-2.06-.94-.94-2.06-.94 2.06-2.06.94z\"/><path d=\"M17.41 7.96l-1.37-1.37c-.4-.4-.92-.59-1.43-.59-.52 0-1.04.2-1.43.59L10.3 9.45l-7.72 7.72c-.78.78-.78 2.05 0 2.83L4 21.41c.39.39.9.59 1.41.59.51 0 1.02-.2 1.41-.59l7.78-7.78 2.81-2.81c.8-.78.8-2.07 0-2.86zM5.41 20L4 18.59l7.72-7.72 1.47 1.35L5.41 20z\"/>\n",
              "  </svg>\n",
              "      </button>\n",
              "      \n",
              "  <style>\n",
              "    .colab-df-container {\n",
              "      display:flex;\n",
              "      flex-wrap:wrap;\n",
              "      gap: 12px;\n",
              "    }\n",
              "\n",
              "    .colab-df-convert {\n",
              "      background-color: #E8F0FE;\n",
              "      border: none;\n",
              "      border-radius: 50%;\n",
              "      cursor: pointer;\n",
              "      display: none;\n",
              "      fill: #1967D2;\n",
              "      height: 32px;\n",
              "      padding: 0 0 0 0;\n",
              "      width: 32px;\n",
              "    }\n",
              "\n",
              "    .colab-df-convert:hover {\n",
              "      background-color: #E2EBFA;\n",
              "      box-shadow: 0px 1px 2px rgba(60, 64, 67, 0.3), 0px 1px 3px 1px rgba(60, 64, 67, 0.15);\n",
              "      fill: #174EA6;\n",
              "    }\n",
              "\n",
              "    [theme=dark] .colab-df-convert {\n",
              "      background-color: #3B4455;\n",
              "      fill: #D2E3FC;\n",
              "    }\n",
              "\n",
              "    [theme=dark] .colab-df-convert:hover {\n",
              "      background-color: #434B5C;\n",
              "      box-shadow: 0px 1px 3px 1px rgba(0, 0, 0, 0.15);\n",
              "      filter: drop-shadow(0px 1px 2px rgba(0, 0, 0, 0.3));\n",
              "      fill: #FFFFFF;\n",
              "    }\n",
              "  </style>\n",
              "\n",
              "      <script>\n",
              "        const buttonEl =\n",
              "          document.querySelector('#df-adcc1353-43c2-4f3e-8ec4-9935aae32964 button.colab-df-convert');\n",
              "        buttonEl.style.display =\n",
              "          google.colab.kernel.accessAllowed ? 'block' : 'none';\n",
              "\n",
              "        async function convertToInteractive(key) {\n",
              "          const element = document.querySelector('#df-adcc1353-43c2-4f3e-8ec4-9935aae32964');\n",
              "          const dataTable =\n",
              "            await google.colab.kernel.invokeFunction('convertToInteractive',\n",
              "                                                     [key], {});\n",
              "          if (!dataTable) return;\n",
              "\n",
              "          const docLinkHtml = 'Like what you see? Visit the ' +\n",
              "            '<a target=\"_blank\" href=https://colab.research.google.com/notebooks/data_table.ipynb>data table notebook</a>'\n",
              "            + ' to learn more about interactive tables.';\n",
              "          element.innerHTML = '';\n",
              "          dataTable['output_type'] = 'display_data';\n",
              "          await google.colab.output.renderOutput(dataTable, element);\n",
              "          const docLink = document.createElement('div');\n",
              "          docLink.innerHTML = docLinkHtml;\n",
              "          element.appendChild(docLink);\n",
              "        }\n",
              "      </script>\n",
              "    </div>\n",
              "  </div>\n",
              "  "
            ]
          },
          "metadata": {},
          "execution_count": 12
        }
      ]
    },
    {
      "cell_type": "code",
      "source": [
        "print(f'messages.shape = {messages.shape}\\n')\n",
        "messages.head(2)"
      ],
      "metadata": {
        "colab": {
          "base_uri": "https://localhost:8080/",
          "height": 278
        },
        "id": "-HI6i4qQI-GB",
        "outputId": "15d43cee-1f9e-4a34-eb34-36e3bfc2765a"
      },
      "execution_count": 13,
      "outputs": [
        {
          "output_type": "stream",
          "name": "stdout",
          "text": [
            "messages.shape = (981, 11)\n",
            "\n"
          ]
        },
        {
          "output_type": "execute_result",
          "data": {
            "text/plain": [
              "                 МАШИНА         ИМЯ_МАШИНЫ               ТЕХ_МЕСТО  \\\n",
              "390         AA2/006-006  ЭКСГАУСТЕР А/М №9     AA2/006-006-002-008   \n",
              "391  CH-AGP-AG2/011-005  ЭКСГАУСТЕР А/М №9  CH-AGP-AG2/011-005-002   \n",
              "\n",
              "                      НАЗВАНИЕ_ТЕХ_МЕСТА ВИД_СООБЩЕНИЯ              ОПИСАНИЕ  \\\n",
              "390     ЗАПОРНАЯ АРМАТУРА ЭКСГАУСТЕРА №9            M3  неисправен двигатель   \n",
              "391  МАСЛОСТАНЦИЯ ЖИДКОЙ СМАЗКИ ЭКСГ. №9            M3  неисправен двигатель   \n",
              "\n",
              "    ДАТА_НАЧАЛА_НЕИСПРАВНОСТИ ДАТА_УСТРАНЕНИЯ_НЕИСПРАВНОСТИ  \\\n",
              "390       2019-01-21 00:00:00                    2019-02-25   \n",
              "391       2019-01-21 12:26:08                    2019-02-25   \n",
              "\n",
              "    ТЕКСТ_ГРУППЫ_КОДОВ equipment                        unified_name  \n",
              "390                NaN         9     ЗАПОРНАЯ АРМАТУРА ЭКСГАУСТЕРА №  \n",
              "391                NaN         9  МАСЛОСТАНЦИЯ ЖИДКОЙ СМАЗКИ ЭКСГ_ №  "
            ],
            "text/html": [
              "\n",
              "  <div id=\"df-0c7617de-faa3-4ed9-9afe-5ee1e93c8c7f\">\n",
              "    <div class=\"colab-df-container\">\n",
              "      <div>\n",
              "<style scoped>\n",
              "    .dataframe tbody tr th:only-of-type {\n",
              "        vertical-align: middle;\n",
              "    }\n",
              "\n",
              "    .dataframe tbody tr th {\n",
              "        vertical-align: top;\n",
              "    }\n",
              "\n",
              "    .dataframe thead th {\n",
              "        text-align: right;\n",
              "    }\n",
              "</style>\n",
              "<table border=\"1\" class=\"dataframe\">\n",
              "  <thead>\n",
              "    <tr style=\"text-align: right;\">\n",
              "      <th></th>\n",
              "      <th>МАШИНА</th>\n",
              "      <th>ИМЯ_МАШИНЫ</th>\n",
              "      <th>ТЕХ_МЕСТО</th>\n",
              "      <th>НАЗВАНИЕ_ТЕХ_МЕСТА</th>\n",
              "      <th>ВИД_СООБЩЕНИЯ</th>\n",
              "      <th>ОПИСАНИЕ</th>\n",
              "      <th>ДАТА_НАЧАЛА_НЕИСПРАВНОСТИ</th>\n",
              "      <th>ДАТА_УСТРАНЕНИЯ_НЕИСПРАВНОСТИ</th>\n",
              "      <th>ТЕКСТ_ГРУППЫ_КОДОВ</th>\n",
              "      <th>equipment</th>\n",
              "      <th>unified_name</th>\n",
              "    </tr>\n",
              "  </thead>\n",
              "  <tbody>\n",
              "    <tr>\n",
              "      <th>390</th>\n",
              "      <td>AA2/006-006</td>\n",
              "      <td>ЭКСГАУСТЕР А/М №9</td>\n",
              "      <td>AA2/006-006-002-008</td>\n",
              "      <td>ЗАПОРНАЯ АРМАТУРА ЭКСГАУСТЕРА №9</td>\n",
              "      <td>M3</td>\n",
              "      <td>неисправен двигатель</td>\n",
              "      <td>2019-01-21 00:00:00</td>\n",
              "      <td>2019-02-25</td>\n",
              "      <td>NaN</td>\n",
              "      <td>9</td>\n",
              "      <td>ЗАПОРНАЯ АРМАТУРА ЭКСГАУСТЕРА №</td>\n",
              "    </tr>\n",
              "    <tr>\n",
              "      <th>391</th>\n",
              "      <td>CH-AGP-AG2/011-005</td>\n",
              "      <td>ЭКСГАУСТЕР А/М №9</td>\n",
              "      <td>CH-AGP-AG2/011-005-002</td>\n",
              "      <td>МАСЛОСТАНЦИЯ ЖИДКОЙ СМАЗКИ ЭКСГ. №9</td>\n",
              "      <td>M3</td>\n",
              "      <td>неисправен двигатель</td>\n",
              "      <td>2019-01-21 12:26:08</td>\n",
              "      <td>2019-02-25</td>\n",
              "      <td>NaN</td>\n",
              "      <td>9</td>\n",
              "      <td>МАСЛОСТАНЦИЯ ЖИДКОЙ СМАЗКИ ЭКСГ_ №</td>\n",
              "    </tr>\n",
              "  </tbody>\n",
              "</table>\n",
              "</div>\n",
              "      <button class=\"colab-df-convert\" onclick=\"convertToInteractive('df-0c7617de-faa3-4ed9-9afe-5ee1e93c8c7f')\"\n",
              "              title=\"Convert this dataframe to an interactive table.\"\n",
              "              style=\"display:none;\">\n",
              "        \n",
              "  <svg xmlns=\"http://www.w3.org/2000/svg\" height=\"24px\"viewBox=\"0 0 24 24\"\n",
              "       width=\"24px\">\n",
              "    <path d=\"M0 0h24v24H0V0z\" fill=\"none\"/>\n",
              "    <path d=\"M18.56 5.44l.94 2.06.94-2.06 2.06-.94-2.06-.94-.94-2.06-.94 2.06-2.06.94zm-11 1L8.5 8.5l.94-2.06 2.06-.94-2.06-.94L8.5 2.5l-.94 2.06-2.06.94zm10 10l.94 2.06.94-2.06 2.06-.94-2.06-.94-.94-2.06-.94 2.06-2.06.94z\"/><path d=\"M17.41 7.96l-1.37-1.37c-.4-.4-.92-.59-1.43-.59-.52 0-1.04.2-1.43.59L10.3 9.45l-7.72 7.72c-.78.78-.78 2.05 0 2.83L4 21.41c.39.39.9.59 1.41.59.51 0 1.02-.2 1.41-.59l7.78-7.78 2.81-2.81c.8-.78.8-2.07 0-2.86zM5.41 20L4 18.59l7.72-7.72 1.47 1.35L5.41 20z\"/>\n",
              "  </svg>\n",
              "      </button>\n",
              "      \n",
              "  <style>\n",
              "    .colab-df-container {\n",
              "      display:flex;\n",
              "      flex-wrap:wrap;\n",
              "      gap: 12px;\n",
              "    }\n",
              "\n",
              "    .colab-df-convert {\n",
              "      background-color: #E8F0FE;\n",
              "      border: none;\n",
              "      border-radius: 50%;\n",
              "      cursor: pointer;\n",
              "      display: none;\n",
              "      fill: #1967D2;\n",
              "      height: 32px;\n",
              "      padding: 0 0 0 0;\n",
              "      width: 32px;\n",
              "    }\n",
              "\n",
              "    .colab-df-convert:hover {\n",
              "      background-color: #E2EBFA;\n",
              "      box-shadow: 0px 1px 2px rgba(60, 64, 67, 0.3), 0px 1px 3px 1px rgba(60, 64, 67, 0.15);\n",
              "      fill: #174EA6;\n",
              "    }\n",
              "\n",
              "    [theme=dark] .colab-df-convert {\n",
              "      background-color: #3B4455;\n",
              "      fill: #D2E3FC;\n",
              "    }\n",
              "\n",
              "    [theme=dark] .colab-df-convert:hover {\n",
              "      background-color: #434B5C;\n",
              "      box-shadow: 0px 1px 3px 1px rgba(0, 0, 0, 0.15);\n",
              "      filter: drop-shadow(0px 1px 2px rgba(0, 0, 0, 0.3));\n",
              "      fill: #FFFFFF;\n",
              "    }\n",
              "  </style>\n",
              "\n",
              "      <script>\n",
              "        const buttonEl =\n",
              "          document.querySelector('#df-0c7617de-faa3-4ed9-9afe-5ee1e93c8c7f button.colab-df-convert');\n",
              "        buttonEl.style.display =\n",
              "          google.colab.kernel.accessAllowed ? 'block' : 'none';\n",
              "\n",
              "        async function convertToInteractive(key) {\n",
              "          const element = document.querySelector('#df-0c7617de-faa3-4ed9-9afe-5ee1e93c8c7f');\n",
              "          const dataTable =\n",
              "            await google.colab.kernel.invokeFunction('convertToInteractive',\n",
              "                                                     [key], {});\n",
              "          if (!dataTable) return;\n",
              "\n",
              "          const docLinkHtml = 'Like what you see? Visit the ' +\n",
              "            '<a target=\"_blank\" href=https://colab.research.google.com/notebooks/data_table.ipynb>data table notebook</a>'\n",
              "            + ' to learn more about interactive tables.';\n",
              "          element.innerHTML = '';\n",
              "          dataTable['output_type'] = 'display_data';\n",
              "          await google.colab.output.renderOutput(dataTable, element);\n",
              "          const docLink = document.createElement('div');\n",
              "          docLink.innerHTML = docLinkHtml;\n",
              "          element.appendChild(docLink);\n",
              "        }\n",
              "      </script>\n",
              "    </div>\n",
              "  </div>\n",
              "  "
            ]
          },
          "metadata": {},
          "execution_count": 13
        }
      ]
    },
    {
      "cell_type": "code",
      "source": [
        "X_test = spark.read.parquet(\n",
        "    \"data/01_raw/\" + \"X_test.parquet\", header=True, inferSchema= True\n",
        ")\n",
        "X_cols = get_new_X_column_names(X_test)\n",
        "X_test = rename_columns(X_test, X_cols)\n",
        "X_test = X_test.repartition(4)\n",
        "\n",
        "print(f'X_test.shape = ({X_test.count()}, {len(X_test.columns)})')"
      ],
      "metadata": {
        "colab": {
          "base_uri": "https://localhost:8080/"
        },
        "id": "zF1fcI2qhmWK",
        "outputId": "d6e17ccf-d2b2-4ad2-b101-91f86aa2284b"
      },
      "execution_count": 14,
      "outputs": [
        {
          "output_type": "stream",
          "name": "stdout",
          "text": [
            "X_test.shape = (4008961, 97)\n"
          ]
        }
      ]
    },
    {
      "cell_type": "code",
      "source": [
        "test_intervals = pd.read_excel(\n",
        "    \"data/01_raw/\" + \"test_intervals.xlsx\", index_col=0\n",
        ").sort_index()\n",
        "\n",
        "print(f'test_intervals.shape = {test_intervals.shape}')\n",
        "test_intervals.head(2)"
      ],
      "metadata": {
        "colab": {
          "base_uri": "https://localhost:8080/",
          "height": 129
        },
        "id": "goLtGBMKf6-k",
        "outputId": "0620ee52-e698-4407-bbba-ffff782ecda8"
      },
      "execution_count": 15,
      "outputs": [
        {
          "output_type": "stream",
          "name": "stdout",
          "text": [
            "test_intervals.shape = (189, 4)\n"
          ]
        },
        {
          "output_type": "execute_result",
          "data": {
            "text/plain": [
              "                start              finish  machine  tm\n",
              "0 2022-01-07 09:05:16 2022-01-07 14:05:15      NaN NaN\n",
              "1 2022-02-25 03:44:52 2022-02-25 08:15:03      NaN NaN"
            ],
            "text/html": [
              "\n",
              "  <div id=\"df-c52b43d7-8f93-4f3b-85a8-79f2e143e331\">\n",
              "    <div class=\"colab-df-container\">\n",
              "      <div>\n",
              "<style scoped>\n",
              "    .dataframe tbody tr th:only-of-type {\n",
              "        vertical-align: middle;\n",
              "    }\n",
              "\n",
              "    .dataframe tbody tr th {\n",
              "        vertical-align: top;\n",
              "    }\n",
              "\n",
              "    .dataframe thead th {\n",
              "        text-align: right;\n",
              "    }\n",
              "</style>\n",
              "<table border=\"1\" class=\"dataframe\">\n",
              "  <thead>\n",
              "    <tr style=\"text-align: right;\">\n",
              "      <th></th>\n",
              "      <th>start</th>\n",
              "      <th>finish</th>\n",
              "      <th>machine</th>\n",
              "      <th>tm</th>\n",
              "    </tr>\n",
              "  </thead>\n",
              "  <tbody>\n",
              "    <tr>\n",
              "      <th>0</th>\n",
              "      <td>2022-01-07 09:05:16</td>\n",
              "      <td>2022-01-07 14:05:15</td>\n",
              "      <td>NaN</td>\n",
              "      <td>NaN</td>\n",
              "    </tr>\n",
              "    <tr>\n",
              "      <th>1</th>\n",
              "      <td>2022-02-25 03:44:52</td>\n",
              "      <td>2022-02-25 08:15:03</td>\n",
              "      <td>NaN</td>\n",
              "      <td>NaN</td>\n",
              "    </tr>\n",
              "  </tbody>\n",
              "</table>\n",
              "</div>\n",
              "      <button class=\"colab-df-convert\" onclick=\"convertToInteractive('df-c52b43d7-8f93-4f3b-85a8-79f2e143e331')\"\n",
              "              title=\"Convert this dataframe to an interactive table.\"\n",
              "              style=\"display:none;\">\n",
              "        \n",
              "  <svg xmlns=\"http://www.w3.org/2000/svg\" height=\"24px\"viewBox=\"0 0 24 24\"\n",
              "       width=\"24px\">\n",
              "    <path d=\"M0 0h24v24H0V0z\" fill=\"none\"/>\n",
              "    <path d=\"M18.56 5.44l.94 2.06.94-2.06 2.06-.94-2.06-.94-.94-2.06-.94 2.06-2.06.94zm-11 1L8.5 8.5l.94-2.06 2.06-.94-2.06-.94L8.5 2.5l-.94 2.06-2.06.94zm10 10l.94 2.06.94-2.06 2.06-.94-2.06-.94-.94-2.06-.94 2.06-2.06.94z\"/><path d=\"M17.41 7.96l-1.37-1.37c-.4-.4-.92-.59-1.43-.59-.52 0-1.04.2-1.43.59L10.3 9.45l-7.72 7.72c-.78.78-.78 2.05 0 2.83L4 21.41c.39.39.9.59 1.41.59.51 0 1.02-.2 1.41-.59l7.78-7.78 2.81-2.81c.8-.78.8-2.07 0-2.86zM5.41 20L4 18.59l7.72-7.72 1.47 1.35L5.41 20z\"/>\n",
              "  </svg>\n",
              "      </button>\n",
              "      \n",
              "  <style>\n",
              "    .colab-df-container {\n",
              "      display:flex;\n",
              "      flex-wrap:wrap;\n",
              "      gap: 12px;\n",
              "    }\n",
              "\n",
              "    .colab-df-convert {\n",
              "      background-color: #E8F0FE;\n",
              "      border: none;\n",
              "      border-radius: 50%;\n",
              "      cursor: pointer;\n",
              "      display: none;\n",
              "      fill: #1967D2;\n",
              "      height: 32px;\n",
              "      padding: 0 0 0 0;\n",
              "      width: 32px;\n",
              "    }\n",
              "\n",
              "    .colab-df-convert:hover {\n",
              "      background-color: #E2EBFA;\n",
              "      box-shadow: 0px 1px 2px rgba(60, 64, 67, 0.3), 0px 1px 3px 1px rgba(60, 64, 67, 0.15);\n",
              "      fill: #174EA6;\n",
              "    }\n",
              "\n",
              "    [theme=dark] .colab-df-convert {\n",
              "      background-color: #3B4455;\n",
              "      fill: #D2E3FC;\n",
              "    }\n",
              "\n",
              "    [theme=dark] .colab-df-convert:hover {\n",
              "      background-color: #434B5C;\n",
              "      box-shadow: 0px 1px 3px 1px rgba(0, 0, 0, 0.15);\n",
              "      filter: drop-shadow(0px 1px 2px rgba(0, 0, 0, 0.3));\n",
              "      fill: #FFFFFF;\n",
              "    }\n",
              "  </style>\n",
              "\n",
              "      <script>\n",
              "        const buttonEl =\n",
              "          document.querySelector('#df-c52b43d7-8f93-4f3b-85a8-79f2e143e331 button.colab-df-convert');\n",
              "        buttonEl.style.display =\n",
              "          google.colab.kernel.accessAllowed ? 'block' : 'none';\n",
              "\n",
              "        async function convertToInteractive(key) {\n",
              "          const element = document.querySelector('#df-c52b43d7-8f93-4f3b-85a8-79f2e143e331');\n",
              "          const dataTable =\n",
              "            await google.colab.kernel.invokeFunction('convertToInteractive',\n",
              "                                                     [key], {});\n",
              "          if (!dataTable) return;\n",
              "\n",
              "          const docLinkHtml = 'Like what you see? Visit the ' +\n",
              "            '<a target=\"_blank\" href=https://colab.research.google.com/notebooks/data_table.ipynb>data table notebook</a>'\n",
              "            + ' to learn more about interactive tables.';\n",
              "          element.innerHTML = '';\n",
              "          dataTable['output_type'] = 'display_data';\n",
              "          await google.colab.output.renderOutput(dataTable, element);\n",
              "          const docLink = document.createElement('div');\n",
              "          docLink.innerHTML = docLinkHtml;\n",
              "          element.appendChild(docLink);\n",
              "        }\n",
              "      </script>\n",
              "    </div>\n",
              "  </div>\n",
              "  "
            ]
          },
          "metadata": {},
          "execution_count": 15
        }
      ]
    },
    {
      "cell_type": "markdown",
      "source": [
        "### 2. Clean data"
      ],
      "metadata": {
        "id": "NO81D6_JKpJa"
      }
    },
    {
      "cell_type": "code",
      "source": [
        "def clean_data(X):\n",
        "  for var in X.schema.names[1:]:\n",
        "    X = X.withColumn(\n",
        "          var, F.when(F.col(var) < 0, 0).otherwise(F.col(var))\n",
        "      )\n",
        "    if var[2:10] == 'ДАВЛЕНИЕ':\n",
        "        X = X.withColumn(\n",
        "          var, F.when(F.col(var) > 800, 800).otherwise(F.col(var))\n",
        "      )\n",
        "  return X"
      ],
      "metadata": {
        "id": "6pjeefGFOj0R"
      },
      "execution_count": 16,
      "outputs": []
    },
    {
      "cell_type": "code",
      "source": [
        "X_train = clean_data(X_train)\n",
        "X_test = clean_data(X_test)"
      ],
      "metadata": {
        "id": "GcJeKqKeOmen"
      },
      "execution_count": 17,
      "outputs": []
    },
    {
      "cell_type": "markdown",
      "source": [
        "### 3. Resample data"
      ],
      "metadata": {
        "id": "qYHT1aZGiY52"
      }
    },
    {
      "cell_type": "code",
      "source": [
        "save = True\n",
        "if save:\n",
        "  t = 60 * 60 # 1 hour\n",
        "  save_resampled_y_train(y_train, path=PATH, period=t)\n",
        "  save_resampled_X(X_train, prefix=\"X_train\", path=PATH, period=t)\n",
        "  save_resampled_X(X_test, prefix=\"X_test\", path=PATH, period=t)\n",
        "\n"
      ],
      "metadata": {
        "id": "psfQ_45DBlp4"
      },
      "execution_count": 18,
      "outputs": []
    },
    {
      "cell_type": "markdown",
      "source": [
        "### 4. Save messages and unified_tech_places"
      ],
      "metadata": {
        "id": "j5U5rqo-DrZF"
      }
    },
    {
      "cell_type": "code",
      "source": [
        "save = True\n",
        "if save:\n",
        "  messages.to_parquet(PATH + FOLDER + \"messages_unified.parquet\")\n",
        "  unified_tech_places.to_parquet(\n",
        "      PATH + FOLDER + \"unified_tech_places.parquet\"\n",
        "  )"
      ],
      "metadata": {
        "id": "QBo-z_lX99A8"
      },
      "execution_count": 19,
      "outputs": []
    }
  ]
}